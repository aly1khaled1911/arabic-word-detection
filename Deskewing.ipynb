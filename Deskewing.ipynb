{
 "cells": [
  {
   "cell_type": "code",
   "execution_count": 56,
   "id": "8fcc2b55",
   "metadata": {},
   "outputs": [],
   "source": [
    "import numpy as np\n",
    "import math\n",
    "import cv2\n",
    "def deskew(file_name):\n",
    "    #angle = compute_skew(file_name)\n",
    "    #load in grayscale:\n",
    "    src = cv2.imread(file_name,0)\n",
    "    height, width = src.shape[0:2]\n",
    "    \n",
    "    #invert the colors of our image:\n",
    "    cv2.bitwise_not(src, src)\n",
    "    \n",
    "    #Hough transform:\n",
    "    minLineLength = width/2.0\n",
    "    maxLineGap = 20\n",
    "    lines = cv2.HoughLinesP(src,1,np.pi/180,100,minLineLength,maxLineGap)\n",
    "    \n",
    "    #calculate the angle between each line and the horizontal line:\n",
    "    angle = 0.0\n",
    "    nb_lines = len(lines)\n",
    "    \n",
    "    \n",
    "    for line in lines:\n",
    "        angle += math.atan2(line[0][3]*1.0 - line[0][1]*1.0,line[0][2]*1.0 - line[0][0]*1.0);\n",
    "    \n",
    "    angle /= nb_lines*1.0\n",
    "    \n",
    "    angle=angle*180.0 / np.pi\n",
    "    \n",
    "    #load in grayscale:\n",
    "    img = cv2.imread(file_name,0)\n",
    "    \n",
    "    #invert the colors of our image:\n",
    "    cv2.bitwise_not(img, img)\n",
    "    \n",
    "    #compute the minimum bounding box:\n",
    "    non_zero_pixels = cv2.findNonZero(img)\n",
    "    center, wh, theta = cv2.minAreaRect(non_zero_pixels)\n",
    "    \n",
    "    root_mat = cv2.getRotationMatrix2D(center, angle, 1)\n",
    "    rows, cols = img.shape\n",
    "    rotated = cv2.warpAffine(img, root_mat, (cols, rows), flags=cv2.INTER_CUBIC)\n",
    "\n",
    "\n",
    "    #Border removing:\n",
    "    sizex = np.int0(wh[0])\n",
    "    print(sizex)\n",
    "    sizey = np.int0(wh[1])\n",
    "    print(sizey)\n",
    "    #print theta\n",
    "    if theta > -45 :\n",
    "        temp = sizex\n",
    "        sizex= sizey\n",
    "        sizey= temp\n",
    "    cv2.getRectSubPix(rotated, (rotated.shape[1],rotated.shape[0]), center)\n",
    "    cv2.bitwise_not(rotated,rotated)\n",
    "    return rotated"
   ]
  },
  {
   "cell_type": "code",
   "execution_count": 62,
   "id": "ae93acf6",
   "metadata": {},
   "outputs": [
    {
     "name": "stdout",
     "output_type": "stream",
     "text": [
      "1073\n",
      "97\n"
     ]
    },
    {
     "data": {
      "text/plain": [
       "-1"
      ]
     },
     "execution_count": 62,
     "metadata": {},
     "output_type": "execute_result"
    }
   ],
   "source": [
    "im_0=cv2.imread('1.jpeg')\n",
    "im_1=deskew('1.jpeg')\n",
    "cv2.imshow('before',im_0)\n",
    "cv2.imshow('after',im_1)\n",
    "cv2.waitKey(0)"
   ]
  },
  {
   "cell_type": "code",
   "execution_count": 61,
   "id": "4d192320",
   "metadata": {},
   "outputs": [
    {
     "name": "stdout",
     "output_type": "stream",
     "text": [
      "243\n",
      "1244\n"
     ]
    },
    {
     "data": {
      "text/plain": [
       "-1"
      ]
     },
     "execution_count": 61,
     "metadata": {},
     "output_type": "execute_result"
    }
   ],
   "source": [
    "im_0=cv2.imread('2.jpeg')\n",
    "im_1=deskew('2.jpeg')\n",
    "cv2.imshow('before',im_0)\n",
    "cv2.imshow('after',im_1)\n",
    "cv2.waitKey(0)"
   ]
  },
  {
   "cell_type": "code",
   "execution_count": 60,
   "id": "2f4aa591",
   "metadata": {},
   "outputs": [
    {
     "name": "stdout",
     "output_type": "stream",
     "text": [
      "1174\n",
      "348\n"
     ]
    },
    {
     "data": {
      "text/plain": [
       "-1"
      ]
     },
     "execution_count": 60,
     "metadata": {},
     "output_type": "execute_result"
    }
   ],
   "source": [
    "im_0=cv2.imread('3.jpeg')\n",
    "im_1=deskew('3.jpeg')\n",
    "cv2.imshow('before',im_0)\n",
    "cv2.imshow('after',im_1)\n",
    "cv2.waitKey(0)"
   ]
  },
  {
   "cell_type": "code",
   "execution_count": null,
   "id": "b82553c9",
   "metadata": {},
   "outputs": [],
   "source": []
  },
  {
   "cell_type": "code",
   "execution_count": null,
   "id": "6656f8f8",
   "metadata": {},
   "outputs": [],
   "source": []
  },
  {
   "cell_type": "code",
   "execution_count": null,
   "id": "7b26796e",
   "metadata": {},
   "outputs": [],
   "source": []
  },
  {
   "cell_type": "code",
   "execution_count": null,
   "id": "b4d14592",
   "metadata": {},
   "outputs": [],
   "source": []
  }
 ],
 "metadata": {
  "kernelspec": {
   "display_name": "Python 3",
   "language": "python",
   "name": "python3"
  },
  "language_info": {
   "codemirror_mode": {
    "name": "ipython",
    "version": 3
   },
   "file_extension": ".py",
   "mimetype": "text/x-python",
   "name": "python",
   "nbconvert_exporter": "python",
   "pygments_lexer": "ipython3",
   "version": "3.8.8"
  }
 },
 "nbformat": 4,
 "nbformat_minor": 5
}
